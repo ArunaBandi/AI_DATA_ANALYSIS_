{
 "cells": [
  {
   "cell_type": "code",
   "execution_count": 1,
   "metadata": {},
   "outputs": [],
   "source": [
    "# Title: Data Manipulation with Pandas\n",
    "# Description: Add a new column that calculates the ratio of petal length to petal width."
   ]
  },
  {
   "cell_type": "code",
   "execution_count": 2,
   "metadata": {},
   "outputs": [
    {
     "name": "stdout",
     "output_type": "stream",
     "text": [
      "   petal_length  petal_width  petal_length_to_width_ratio\n",
      "0           1.4          0.2                     7.000000\n",
      "1           1.5          0.3                     5.000000\n",
      "2           1.3          0.2                     6.500000\n",
      "3           4.5          1.5                     3.000000\n",
      "4           5.1          1.8                     2.833333\n"
     ]
    }
   ],
   "source": [
    "import pandas as pd\n",
    "\n",
    "# Assuming you have a DataFrame called 'df' with columns 'petal_length' and 'petal_width'\n",
    "df = pd.DataFrame({\n",
    "    'petal_length': [1.4, 1.5, 1.3, 4.5, 5.1],\n",
    "    'petal_width': [0.2, 0.3, 0.2, 1.5, 1.8]\n",
    "})\n",
    "\n",
    "# Add a new column for the ratio of petal length to petal width\n",
    "df['petal_length_to_width_ratio'] = df['petal_length'] / df['petal_width']\n",
    "\n",
    "# Display the updated DataFrame\n",
    "print(df)\n"
   ]
  }
 ],
 "metadata": {
  "kernelspec": {
   "display_name": "Python 3",
   "language": "python",
   "name": "python3"
  },
  "language_info": {
   "codemirror_mode": {
    "name": "ipython",
    "version": 3
   },
   "file_extension": ".py",
   "mimetype": "text/x-python",
   "name": "python",
   "nbconvert_exporter": "python",
   "pygments_lexer": "ipython3",
   "version": "3.10.12"
  }
 },
 "nbformat": 4,
 "nbformat_minor": 2
}

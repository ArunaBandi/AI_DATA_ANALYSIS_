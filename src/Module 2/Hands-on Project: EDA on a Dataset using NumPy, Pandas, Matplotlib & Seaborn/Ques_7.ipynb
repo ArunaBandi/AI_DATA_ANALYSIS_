{
 "cells": [
  {
   "cell_type": "code",
   "execution_count": 1,
   "metadata": {},
   "outputs": [],
   "source": [
    "# Title: Group and Aggregate Data\n",
    "# Description: Group the dataset by species (target) and compute the average of each feature."
   ]
  },
  {
   "cell_type": "code",
   "execution_count": 2,
   "metadata": {},
   "outputs": [
    {
     "name": "stdout",
     "output_type": "stream",
     "text": [
      "            sepal length (cm)  sepal width (cm)  petal length (cm)  \\\n",
      "species                                                              \n",
      "Setosa                  5.006             3.428              1.462   \n",
      "Versicolor              5.936             2.770              4.260   \n",
      "Virginica               6.588             2.974              5.552   \n",
      "\n",
      "            petal width (cm)  \n",
      "species                       \n",
      "Setosa                 0.246  \n",
      "Versicolor             1.326  \n",
      "Virginica              2.026  \n"
     ]
    }
   ],
   "source": [
    "import pandas as pd\n",
    "\n",
    "# Example: Load a dataset (for demonstration, using a sample dataset like iris)\n",
    "# This dataset can be replaced with your own data.\n",
    "from sklearn.datasets import load_iris\n",
    "\n",
    "# Load the iris dataset\n",
    "iris = load_iris()\n",
    "df = pd.DataFrame(iris.data, columns=iris.feature_names)\n",
    "\n",
    "# Add the target (species) to the dataframe\n",
    "df['species'] = iris.target\n",
    "\n",
    "# Map target numbers to species names (optional for better clarity)\n",
    "species_mapping = {0: 'Setosa', 1: 'Versicolor', 2: 'Virginica'}\n",
    "df['species'] = df['species'].map(species_mapping)\n",
    "\n",
    "# Group by species and calculate the mean of each feature\n",
    "grouped_avg = df.groupby('species').mean()\n",
    "\n",
    "# Display the result\n",
    "print(grouped_avg)\n"
   ]
  }
 ],
 "metadata": {
  "kernelspec": {
   "display_name": "Python 3",
   "language": "python",
   "name": "python3"
  },
  "language_info": {
   "codemirror_mode": {
    "name": "ipython",
    "version": 3
   },
   "file_extension": ".py",
   "mimetype": "text/x-python",
   "name": "python",
   "nbconvert_exporter": "python",
   "pygments_lexer": "ipython3",
   "version": "3.10.12"
  }
 },
 "nbformat": 4,
 "nbformat_minor": 2
}

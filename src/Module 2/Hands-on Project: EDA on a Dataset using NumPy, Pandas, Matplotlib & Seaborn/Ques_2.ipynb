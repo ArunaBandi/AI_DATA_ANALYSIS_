{
 "cells": [
  {
   "cell_type": "code",
   "execution_count": 1,
   "metadata": {},
   "outputs": [],
   "source": [
    "# Title: Basic NumPy Operations\n",
    "# Description: Perform basic operations such as calculating the mean of the dataset."
   ]
  },
  {
   "cell_type": "code",
   "execution_count": 2,
   "metadata": {},
   "outputs": [
    {
     "name": "stdout",
     "output_type": "stream",
     "text": [
      "The mean of the dataset is: 30.0\n",
      "The sum of the dataset is: 150\n",
      "The standard deviation of the dataset is: 14.142135623730951\n",
      "The median of the dataset is: 30.0\n",
      "The variance of the dataset is: 200.0\n"
     ]
    }
   ],
   "source": [
    "import numpy as np\n",
    "\n",
    "# Creating a NumPy array\n",
    "data = np.array([10, 20, 30, 40, 50])\n",
    "\n",
    "# Calculating the mean\n",
    "mean_value = np.mean(data)\n",
    "print(f\"The mean of the dataset is: {mean_value}\")\n",
    "\n",
    "# Calculating the sum\n",
    "sum_value = np.sum(data)\n",
    "print(f\"The sum of the dataset is: {sum_value}\")\n",
    "\n",
    "# Calculating the standard deviation\n",
    "std_deviation = np.std(data)\n",
    "print(f\"The standard deviation of the dataset is: {std_deviation}\")\n",
    "\n",
    "# Calculating the median\n",
    "median_value = np.median(data)\n",
    "print(f\"The median of the dataset is: {median_value}\")\n",
    "\n",
    "# Calculating the variance\n",
    "variance_value = np.var(data)\n",
    "print(f\"The variance of the dataset is: {variance_value}\")\n"
   ]
  }
 ],
 "metadata": {
  "kernelspec": {
   "display_name": "Python 3",
   "language": "python",
   "name": "python3"
  },
  "language_info": {
   "codemirror_mode": {
    "name": "ipython",
    "version": 3
   },
   "file_extension": ".py",
   "mimetype": "text/x-python",
   "name": "python",
   "nbconvert_exporter": "python",
   "pygments_lexer": "ipython3",
   "version": "3.10.12"
  }
 },
 "nbformat": 4,
 "nbformat_minor": 2
}
